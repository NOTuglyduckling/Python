{
  "cells": [
    {
      "cell_type": "markdown",
      "metadata": {
        "id": "5yIWtVHIkdXm"
      },
      "source": [
        "# La régression linéaire\n",
        "\n",
        "\n",
        "## Régression linéaire\n",
        "En statistique, la régression linéaire est une approche linéaire de la\n",
        "modélisation de la relation entre une variable expliquée et une ou\n",
        "plusieurs variables explicatives (covariables). Dans le cas d'une seule variable explicative, on parle de régression linéaire simple. Pour plus d'une variable explicative (indépendante), le processus est appelé régression linéaire\n",
        "multiple. Nous allons traiter la régression linéaire simple dans ce\n",
        "tutoriel.\n",
        "Soit **X** la variable explicative et **Y** la variable\n",
        "expliquée. Nous allons définir une relation linéaire entre ces deux\n",
        "variables comme suit :\n",
        "\n",
        "\\\\[ Y = aX + b \\\\]  \n",
        "![mxplusc](SlopeInterceptLineEqu.png)\n",
        "\n",
        "Voici l'équation d'une droite que vous avez étudiée au lycée. **a** est la pente de la droite et **b** est l'ordonnée à l'origine. Aujourd'hui, nous allons utiliser cette équation pour entraîner notre modèle avec un ensemble de données donné et prédire la valeur de **Y** pour toute valeur donnée de **X**.\n",
        "  \n",
        "Notre défi d'aujourd'hui est de déterminer la valeur de **a** et **b**, qui donnent l'erreur minimale pour l'ensemble de données donné. Pour ce faire, nous utiliserons d'abord la méthode des **moindre carrés**.  \n",
        "\n",
        "## Trouver l'erreur  \n",
        "Pour minimiser l'erreur, nous devons d'abord trouver un moyen de la calculer. Une **fonction de perte (loss)** en apprentissage automatique est simplement une mesure de la différence entre la valeur prédite et la valeur réelle.  \n",
        "Aujourd'hui, nous allons utiliser une **fonction de loss quadratique (L2)** pour calculer la perte ou l'erreur dans notre modèle. Elle peut être définie comme suit :\n",
        "  \n",
        "\\\\[ S(x) = \\sum_{i=1}^n (y_i - \\hat{y}_i)^2\\\\]  \n",
        "\n",
        "  \n",
        "Nous élevons  $(y - \\hat{y})$  au carré car, pour les points situés sous la ligne de\n",
        "régression, $(y - \\hat{y}\\$ sera négatif et nous ne voulons pas de\n",
        "valeurs négatives dans notre erreur totale (cela annulerait les valeurs\n",
        "positives).\n",
        "\n",
        "## Méthode des moindres carrés\n",
        "\n",
        "Maintenant que nous avons choisi la fonction de perte, la seule chose qui reste à faire est de la minimiser. Pour ce faire, il faut trouver la dérivée partielle de **S**, l'égaliser à 0, puis trouver une expression pour **a** et **b**.\n",
        "\n",
        "Posons $S=\\sum_{i=1}^n (y_i - \\hat{y_i})^2$ avec $\\hat{y_i}=ax_i +b$.\n",
        "Nous allons dériver **S** partiellement en fonction b et de a pour chercher son minimum (rappelons que **S** est convexe).\n",
        "<ins>Calcule de $b$ :</ins>\n",
        "\\\\[\\frac{\\partial}{\\partial b}\\sum_{i=1}^n (y_i - (a x_i + b ))^2 \\\\]\n",
        "\\\\[=\\frac{\\partial}{\\partial b}\\sum_{i=1}^n (y_i^2 -2y_iax_i - 2y_i b + (a x_i + b)^2)  \\\\]\n",
        "\\\\[=\\frac{\\partial}{\\partial b}\\sum_{i=1}^n (y_i^2 - 2 y_i a x_i - 2 y_i b + a^2x_i^2 + 2a x_i b + b^2) \\\\]\n",
        "\\\\[=\\sum_{i=1}^n (-2y_i + 2a x_i + 2b) \\\\]\n",
        "\\\\[=-2\\sum_{i=1}^n (y_i - (ax_i +b)) \\\\]\n",
        "On cherche $b$ tel que $\\frac{\\partial S}{\\partial b}=0$ et on fixe $a$ à une constante quelconque.\n",
        "\n",
        "\\\\[-2\\sum_{i=1}^n (y_i - (ax_i +b)) = 0 \\\\]\n",
        "\n",
        "\\\\[<=>\\sum_{i=1}^n (y_i - (ax_i +b)) = 0 \\\\]\n",
        "\\\\[<=>\\sum_{i=1}^n (y_i) - \\sum_{i=1}^n(ax_i) - nb = 0 \\\\]\n",
        "\\\\[<=>b = \\frac{\\sum_{i=1}^n y_i}{n} - \\frac{\\sum_{i=1}^n ax_i}{n}\\\\]\n",
        "On pose $\\bar{y}$ et $\\bar{x}$ les moyennes respectives de $y$ et $x$.\n",
        "\n",
        "\n",
        "\\\\[<=>b =  \\bar{y} - a \\bar{x} \\\\]\n",
        "\n",
        "<ins>Calcul de $a$ :</ins>\n",
        "\\\\[\\frac{\\partial}{\\partial a}\\sum_{i=1}^n (y_i - ( ax_i + \\bar{y} - a \\bar{x}) )^2 \\\\]\n",
        "On factorise par $(x_i- \\bar{x})$ et par $(y_i- \\bar{y})$ pour simplifier le développement <br>\n",
        "\\\\[<=>\\frac{\\partial}{\\partial a}\\sum_{i=1}^n (-a(x_i-\\bar{x})+(y_i-\\bar{y}))^2\\\\]\n",
        "\\\\[<=>\\frac{\\partial}{\\partial a}\\sum_{i=1}^n (a^2(x_i-\\bar{x})^2-2a(x_i-\\bar{x})(y_i-\\bar{y}))+(y_i-\\bar{y})^2)\\\\]\n",
        "\\\\[<=>\\sum_{i=1}^n(2(x_i-\\bar{x})^2 - 2(x_i-\\bar{x})(y_i-\\bar{y}))\\\\]\n",
        "On cherche $a$ tel que $\\frac{\\partial S}{\\partial a}=0$ <br>\n",
        "\\\\[<=> a\\sum_{i=1}^n (2a(x_i - \\bar{x})^2)- 2\\sum_{i=1}^n (x_i-\\bar{x})(y_i-\\bar{y}) = 0 \\\\]\n",
        "\\\\[<=> a = \\frac{\\sum_{i=1}^n(x_i-\\bar{x})(y_i-\\bar{y})}{\\sum_{i=1}^n (x_i - \\bar{x})^2}\\\\]\n",
        "Vous aurez peut-être identifié $\\sigma_{xy}=\\sum_{i=1}^n(x_i-\\bar{x})(y_i-\\bar{y})$ et $\\sigma_x^2=\\sum_{i=1}^n (x_i - \\bar{x})^2$.       \n",
        "\n",
        "\n",
        "<ins>on trouve donc pour $a$ et $b$ :</ins>\n",
        "\\\\[a = \\frac{\\sum_{i=1}^n (x_i - \\bar x)(y_i - \\bar y)}{\\sum_{i=1}^n (x_i - \\bar x)^2}\\\\]  \n",
        "  \n",
        "\\\\[b = \\bar y - a\\bar x\\\\]  \n",
        "  \n",
        "Ici, $\\bar x$ est la moyenne de toutes les valeurs de l'entrée **X** et $\\bar y$ est la moyenne de toutes les valeurs de la sortie souhaitée **Y**. Il s'agit de la méthode des moindres carrés.\n",
        "Nous allons maintenant l'implémenter en Python et faire des prédictions.  "
      ]
    },
    {
      "cell_type": "markdown",
      "metadata": {
        "id": "msrWf7BqkdXo"
      },
      "source": [
        "## Implementing the Model"
      ]
    },
    {
      "cell_type": "code",
      "execution_count": 31,
      "metadata": {
        "id": "CoHmNOHdkdXp"
      },
      "outputs": [],
      "source": [
        "# Making imports\n",
        "import pandas as pd\n",
        "import numpy as np\n",
        "import matplotlib.pyplot as plt\n",
        "plt.rcParams['figure.figsize'] = (7, 5)"
      ]
    },
    {
      "cell_type": "markdown",
      "metadata": {
        "id": "5Y5VPPRJPYBh"
      },
      "source": [
        "Charger les données 'data.csv'"
      ]
    },
    {
      "cell_type": "code",
      "execution_count": 32,
      "metadata": {
        "id": "n-YOthQSkdXq",
        "scrolled": true
      },
      "outputs": [
        {
          "data": {
            "image/png": "[encoded data removed]",
            "text/plain": [
              "<Figure size 700x500 with 1 Axes>"
            ]
          },
          "metadata": {},
          "output_type": "display_data"
        }
      ],
      "source": [
        "# Preprocessing Input data\n",
        "data = pd.read_csv('data.csv')\n",
        "X = data.iloc[:, 0]\n",
        "Y = data.iloc[:, 1]\n",
        "plt.scatter(X, Y)\n",
        "plt.xlabel(\"X-Axis\")\n",
        "plt.ylabel(\"Y-Axis\")\n",
        "plt.show()"
      ]
    },
    {
      "cell_type": "code",
      "execution_count": 33,
      "metadata": {
        "id": "rmsuLBoTkdXs",
        "outputId": "4a8ac057-61fd-44f0-a671-44b6e6468f40"
      },
      "outputs": [
        {
          "data": {
            "text/html": [
              "<div>\n",
              "<style scoped>\n",
              "    .dataframe tbody tr th:only-of-type {\n",
              "        vertical-align: middle;\n",
              "    }\n",
              "\n",
              "    .dataframe tbody tr th {\n",
              "        vertical-align: top;\n",
              "    }\n",
              "\n",
              "    .dataframe thead th {\n",
              "        text-align: right;\n",
              "    }\n",
              "</style>\n",
              "<table border=\"1\" class=\"dataframe\">\n",
              "  <thead>\n",
              "    <tr style=\"text-align: right;\">\n",
              "      <th></th>\n",
              "      <th>X</th>\n",
              "      <th>Y</th>\n",
              "    </tr>\n",
              "  </thead>\n",
              "  <tbody>\n",
              "    <tr>\n",
              "      <th>0</th>\n",
              "      <td>53.426804</td>\n",
              "      <td>68.777596</td>\n",
              "    </tr>\n",
              "    <tr>\n",
              "      <th>1</th>\n",
              "      <td>61.530358</td>\n",
              "      <td>62.562382</td>\n",
              "    </tr>\n",
              "    <tr>\n",
              "      <th>2</th>\n",
              "      <td>47.475640</td>\n",
              "      <td>71.546632</td>\n",
              "    </tr>\n",
              "    <tr>\n",
              "      <th>3</th>\n",
              "      <td>59.813208</td>\n",
              "      <td>87.230925</td>\n",
              "    </tr>\n",
              "    <tr>\n",
              "      <th>4</th>\n",
              "      <td>55.142188</td>\n",
              "      <td>78.211518</td>\n",
              "    </tr>\n",
              "  </tbody>\n",
              "</table>\n",
              "</div>"
            ],
            "text/plain": [
              "           X          Y\n",
              "0  53.426804  68.777596\n",
              "1  61.530358  62.562382\n",
              "2  47.475640  71.546632\n",
              "3  59.813208  87.230925\n",
              "4  55.142188  78.211518"
            ]
          },
          "execution_count": 33,
          "metadata": {},
          "output_type": "execute_result"
        }
      ],
      "source": [
        "data.head()"
      ]
    },
    {
      "cell_type": "markdown",
      "metadata": {
        "id": "arVcLBvIkdXr"
      },
      "source": [
        "à vous\n",
        "<br>\n",
        "\n",
        "Implémenter le modèle de façon itérative pour trouver le coefficient a et l'intercept b. Vous devez obtenir a = 1.28 et b= 9.90"
      ]
    },
    {
      "cell_type": "markdown",
      "metadata": {
        "id": "CSgsrH6OPiyo"
      },
      "source": [
        "En exécutant le code suivant, donner la MSE de vôtre modèle pour le dataset d'entraînement."
      ]
    },
    {
      "cell_type": "code",
      "execution_count": 1,
      "metadata": {
        "id": "xGl7oi6OkdXv"
      },
      "outputs": [
        {
          "ename": "NameError",
          "evalue": "name 'X' is not defined",
          "output_type": "error",
          "traceback": [
            "\u001b[31m---------------------------------------------------------------------------\u001b[39m",
            "\u001b[31mNameError\u001b[39m                                 Traceback (most recent call last)",
            "\u001b[36mCell\u001b[39m\u001b[36m \u001b[39m\u001b[32mIn[1]\u001b[39m\u001b[32m, line 3\u001b[39m\n\u001b[32m      1\u001b[39m \u001b[38;5;28;01mfrom\u001b[39;00m\u001b[38;5;250m \u001b[39m\u001b[34;01msklearn\u001b[39;00m\u001b[34;01m.\u001b[39;00m\u001b[34;01mmetrics\u001b[39;00m\u001b[38;5;250m \u001b[39m\u001b[38;5;28;01mimport\u001b[39;00m mean_squared_error\n\u001b[32m----> \u001b[39m\u001b[32m3\u001b[39m n = \u001b[38;5;28mlen\u001b[39m(\u001b[43mX\u001b[49m)\n\u001b[32m      4\u001b[39m Xmoy = X.mean()\n\u001b[32m      5\u001b[39m Ymoy = Y.mean()\n",
            "\u001b[31mNameError\u001b[39m: name 'X' is not defined"
          ]
        }
      ],
      "source": [
        "from sklearn.metrics import mean_squared_error\n",
        "\n",
        "n = len(X)\n",
        "Xmoy = X.mean()\n",
        "Ymoy = Y.mean()\n",
        "\n",
        "var=0\n",
        "cov=0\n",
        "\n",
        "for i in range (n) :\n",
        "    var += (X[i] - Xmoy)**2\n",
        "    cov += (X[i] - Xmoy)*(Y[i] - Ymoy)\n",
        "    \n",
        "a = cov/var\n",
        "b = Ymoy - a* Xmoy\n",
        "y_pred = a * X + b\n",
        "\n",
        "mse = mean_squared_error(Y, y_pred)\n",
        "print(f\"\\nErreur Quadratique Moyenne (MSE) : {mse:.4f}\")\n",
        "\n",
        "\n"
      ]
    },
    {
      "cell_type": "markdown",
      "metadata": {
        "id": "XpEmIEOIPpS7"
      },
      "source": []
    },
    {
      "cell_type": "markdown",
      "metadata": {
        "id": "ZF3MM3O0P4Am"
      },
      "source": [
        "Affichez également la RMSE pour le dataset d'entraînement"
      ]
    },
    {
      "cell_type": "markdown",
      "metadata": {
        "id": "_I0BMQT2kdXy"
      },
      "source": [
        "# Régression linéaire en 6 lines de Python"
      ]
    },
    {
      "cell_type": "markdown",
      "metadata": {
        "id": "WwBqHyCrkdXy"
      },
      "source": [
        "   Il est possible de réaliser une régression linéaire avec de nombreuses\n",
        "librairies Python. Une des librairies les plus utilisées est Sklearn."
      ]
    },
    {
      "cell_type": "code",
      "execution_count": 35,
      "metadata": {
        "id": "x6y5U_VBkdXy"
      },
      "outputs": [],
      "source": [
        "import numpy as np\n",
        "import matplotlib.pyplot as plt\n",
        "import pandas as pd\n",
        "from sklearn.linear_model import LinearRegression"
      ]
    },
    {
      "cell_type": "markdown",
      "metadata": {
        "id": "3saBUTvAkdXy"
      },
      "source": [
        "Après avoir chargé les données, il faut convertir les données en liste (array) grâce à la lib Numpy"
      ]
    },
    {
      "cell_type": "code",
      "execution_count": 36,
      "metadata": {
        "id": "_HlFtZrekdXz"
      },
      "outputs": [],
      "source": [
        "data = pd.read_csv('data.csv')\n",
        "X = data.iloc[:, 0].values.reshape(-1, 1) # values converts it into a numpy array\n",
        "Y = data.iloc[:, 1].values.reshape(-1, 1) # -1 means that calculate the dimension of rows, but have 1 column\n",
        "linear_regressor = LinearRegression()\n",
        "linear_regressor.fit(X, Y)\n",
        "Y_pred = linear_regressor.predict(X)"
      ]
    },
    {
      "cell_type": "markdown",
      "metadata": {
        "id": "TS2PBbcUkdXz"
      },
      "source": [
        "À vous !\n",
        "Afficher le coefficient $a$ obtenu par la fonction LinearRegression()"
      ]
    },
    {
      "cell_type": "code",
      "execution_count": 48,
      "metadata": {
        "id": "8KFvUgP1QG0W"
      },
      "outputs": [
        {
          "name": "stdout",
          "output_type": "stream",
          "text": [
            "1.2873573700109313\n",
            "9.908606190326537\n"
          ]
        }
      ],
      "source": [
        "a = linear_regressor.coef_[0][0]\n",
        "b = linear_regressor.intercept_[0]\n",
        "print(a)\n",
        "print(b)"
      ]
    },
    {
      "cell_type": "markdown",
      "metadata": {
        "id": "nwjRBEWMkdXz"
      },
      "source": [
        "Affichez également la MSE et la RMSE en complétant le code ci-dessous. Votre RMSE doit être égale à ~10.36"
      ]
    },
    {
      "cell_type": "code",
      "execution_count": 49,
      "metadata": {
        "id": "CmmGIZUtkdX0",
        "outputId": "a1d63edd-aeb4-4b2e-f5c0-7b0a31639325"
      },
      "outputs": [
        {
          "name": "stdout",
          "output_type": "stream",
          "text": [
            "Erreur Quadratique Moyenne (MSE) : 107.4704\n",
            "Racine carrée Erreur Quadratique Moyenne (RMSE) : 10.3668\n",
            "Coefficient de détermination (R²) : 0.5872\n"
          ]
        }
      ],
      "source": [
        "from sklearn.metrics import r2_score\n",
        "\n",
        "mse = mean_squared_error(Y, Y_pred)\n",
        "r2 = r2_score(Y, Y_pred)\n",
        "rmse = np.sqrt(mse)\n",
        "print(f\"Erreur Quadratique Moyenne (MSE) : {mse:.4f}\")\n",
        "print(f\"Racine carrée Erreur Quadratique Moyenne (RMSE) : {rmse:.4f}\")\n",
        "print(f\"Coefficient de détermination (R²) : {r2:.4f}\")\n"
      ]
    },
    {
      "cell_type": "markdown",
      "metadata": {
        "id": "po2jmmBFkdX0"
      },
      "source": [
        "Afficher sur un même graphique les données sur l axe des X/Y ainsi que la droite de régression obtenue. Vous devez obrenir le graph suivant"
      ]
    },
    {
      "cell_type": "markdown",
      "metadata": {
        "id": "ZpH8qe04kdX1"
      },
      "source": [
        "# La fonction OLS"
      ]
    },
    {
      "cell_type": "markdown",
      "metadata": {
        "id": "viS7r3zQkdX1"
      },
      "source": [
        "La régression linéaire LinearRegression() fait référence à la relation LINÉAIRE entre une ou plusieurs\n",
        "variables. La fonction LinearRegression() vous permet d'utiliser d'autres méthodes que celle des moindres carrés (que nous ne verrons pas dans ce cours). La fonction OLS (Ordinary Least Square) au contraire, impose la méthode des\n",
        "moindres carré. Utiliser la fonction LinearRegression()\n",
        "la méthode des moindres carrés vous donne des résultats similaire à la fonction OLS() mais cette dernière vous permet d'avoir davantage d'informations.\n",
        "\n",
        "\n",
        "\n",
        "Afficher le résultat du modèle avec la fonction summary()\n",
        "\n",
        "La syntaxe pour utiliser la fonction summary() est\n",
        "\n",
        "model_fit.summary()"
      ]
    },
    {
      "cell_type": "code",
      "execution_count": 44,
      "metadata": {
        "id": "sJM1CWyTkdX1",
        "outputId": "662ab916-a40b-4444-b031-5d84dec39fa5"
      },
      "outputs": [
        {
          "data": {
            "text/html": [
              "<table class=\"simpletable\">\n",
              "<caption>OLS Regression Results</caption>\n",
              "<tr>\n",
              "  <th>Dep. Variable:</th>            <td>y</td>        <th>  R-squared:         </th> <td>   0.587</td>\n",
              "</tr>\n",
              "<tr>\n",
              "  <th>Model:</th>                   <td>OLS</td>       <th>  Adj. R-squared:    </th> <td>   0.583</td>\n",
              "</tr>\n",
              "<tr>\n",
              "  <th>Method:</th>             <td>Least Squares</td>  <th>  F-statistic:       </th> <td>   138.0</td>\n",
              "</tr>\n",
              "<tr>\n",
              "  <th>Date:</th>             <td>Wed, 12 Mar 2025</td> <th>  Prob (F-statistic):</th> <td>2.43e-20</td>\n",
              "</tr>\n",
              "<tr>\n",
              "  <th>Time:</th>                 <td>18:38:20</td>     <th>  Log-Likelihood:    </th> <td> -372.00</td>\n",
              "</tr>\n",
              "<tr>\n",
              "  <th>No. Observations:</th>      <td>    99</td>      <th>  AIC:               </th> <td>   748.0</td>\n",
              "</tr>\n",
              "<tr>\n",
              "  <th>Df Residuals:</th>          <td>    97</td>      <th>  BIC:               </th> <td>   753.2</td>\n",
              "</tr>\n",
              "<tr>\n",
              "  <th>Df Model:</th>              <td>     1</td>      <th>                     </th>     <td> </td>   \n",
              "</tr>\n",
              "<tr>\n",
              "  <th>Covariance Type:</th>      <td>nonrobust</td>    <th>                     </th>     <td> </td>   \n",
              "</tr>\n",
              "</table>\n",
              "<table class=\"simpletable\">\n",
              "<tr>\n",
              "    <td></td>       <th>coef</th>     <th>std err</th>      <th>t</th>      <th>P>|t|</th>  <th>[0.025</th>    <th>0.975]</th>  \n",
              "</tr>\n",
              "<tr>\n",
              "  <th>const</th> <td>    9.9086</td> <td>    5.486</td> <td>    1.806</td> <td> 0.074</td> <td>   -0.980</td> <td>   20.797</td>\n",
              "</tr>\n",
              "<tr>\n",
              "  <th>x1</th>    <td>    1.2874</td> <td>    0.110</td> <td>   11.746</td> <td> 0.000</td> <td>    1.070</td> <td>    1.505</td>\n",
              "</tr>\n",
              "</table>\n",
              "<table class=\"simpletable\">\n",
              "<tr>\n",
              "  <th>Omnibus:</th>       <td> 0.774</td> <th>  Durbin-Watson:     </th> <td>   2.206</td>\n",
              "</tr>\n",
              "<tr>\n",
              "  <th>Prob(Omnibus):</th> <td> 0.679</td> <th>  Jarque-Bera (JB):  </th> <td>   0.895</td>\n",
              "</tr>\n",
              "<tr>\n",
              "  <th>Skew:</th>          <td> 0.179</td> <th>  Prob(JB):          </th> <td>   0.639</td>\n",
              "</tr>\n",
              "<tr>\n",
              "  <th>Kurtosis:</th>      <td> 2.703</td> <th>  Cond. No.          </th> <td>    261.</td>\n",
              "</tr>\n",
              "</table><br/><br/>Notes:<br/>[1] Standard Errors assume that the covariance matrix of the errors is correctly specified."
            ],
            "text/latex": [
              "\\begin{center}\n",
              "\\begin{tabular}{lclc}\n",
              "\\toprule\n",
              "\\textbf{Dep. Variable:}    &        y         & \\textbf{  R-squared:         } &     0.587   \\\\\n",
              "\\textbf{Model:}            &       OLS        & \\textbf{  Adj. R-squared:    } &     0.583   \\\\\n",
              "\\textbf{Method:}           &  Least Squares   & \\textbf{  F-statistic:       } &     138.0   \\\\\n",
              "\\textbf{Date:}             & Wed, 12 Mar 2025 & \\textbf{  Prob (F-statistic):} &  2.43e-20   \\\\\n",
              "\\textbf{Time:}             &     18:38:20     & \\textbf{  Log-Likelihood:    } &   -372.00   \\\\\n",
              "\\textbf{No. Observations:} &          99      & \\textbf{  AIC:               } &     748.0   \\\\\n",
              "\\textbf{Df Residuals:}     &          97      & \\textbf{  BIC:               } &     753.2   \\\\\n",
              "\\textbf{Df Model:}         &           1      & \\textbf{                     } &             \\\\\n",
              "\\textbf{Covariance Type:}  &    nonrobust     & \\textbf{                     } &             \\\\\n",
              "\\bottomrule\n",
              "\\end{tabular}\n",
              "\\begin{tabular}{lcccccc}\n",
              "               & \\textbf{coef} & \\textbf{std err} & \\textbf{t} & \\textbf{P$> |$t$|$} & \\textbf{[0.025} & \\textbf{0.975]}  \\\\\n",
              "\\midrule\n",
              "\\textbf{const} &       9.9086  &        5.486     &     1.806  &         0.074        &       -0.980    &       20.797     \\\\\n",
              "\\textbf{x1}    &       1.2874  &        0.110     &    11.746  &         0.000        &        1.070    &        1.505     \\\\\n",
              "\\bottomrule\n",
              "\\end{tabular}\n",
              "\\begin{tabular}{lclc}\n",
              "\\textbf{Omnibus:}       &  0.774 & \\textbf{  Durbin-Watson:     } &    2.206  \\\\\n",
              "\\textbf{Prob(Omnibus):} &  0.679 & \\textbf{  Jarque-Bera (JB):  } &    0.895  \\\\\n",
              "\\textbf{Skew:}          &  0.179 & \\textbf{  Prob(JB):          } &    0.639  \\\\\n",
              "\\textbf{Kurtosis:}      &  2.703 & \\textbf{  Cond. No.          } &     261.  \\\\\n",
              "\\bottomrule\n",
              "\\end{tabular}\n",
              "%\\caption{OLS Regression Results}\n",
              "\\end{center}\n",
              "\n",
              "Notes: \\newline\n",
              " [1] Standard Errors assume that the covariance matrix of the errors is correctly specified."
            ],
            "text/plain": [
              "<class 'statsmodels.iolib.summary.Summary'>\n",
              "\"\"\"\n",
              "                            OLS Regression Results                            \n",
              "==============================================================================\n",
              "Dep. Variable:                      y   R-squared:                       0.587\n",
              "Model:                            OLS   Adj. R-squared:                  0.583\n",
              "Method:                 Least Squares   F-statistic:                     138.0\n",
              "Date:                Wed, 12 Mar 2025   Prob (F-statistic):           2.43e-20\n",
              "Time:                        18:38:20   Log-Likelihood:                -372.00\n",
              "No. Observations:                  99   AIC:                             748.0\n",
              "Df Residuals:                      97   BIC:                             753.2\n",
              "Df Model:                           1                                         \n",
              "Covariance Type:            nonrobust                                         \n",
              "==============================================================================\n",
              "                 coef    std err          t      P>|t|      [0.025      0.975]\n",
              "------------------------------------------------------------------------------\n",
              "const          9.9086      5.486      1.806      0.074      -0.980      20.797\n",
              "x1             1.2874      0.110     11.746      0.000       1.070       1.505\n",
              "==============================================================================\n",
              "Omnibus:                        0.774   Durbin-Watson:                   2.206\n",
              "Prob(Omnibus):                  0.679   Jarque-Bera (JB):                0.895\n",
              "Skew:                           0.179   Prob(JB):                        0.639\n",
              "Kurtosis:                       2.703   Cond. No.                         261.\n",
              "==============================================================================\n",
              "\n",
              "Notes:\n",
              "[1] Standard Errors assume that the covariance matrix of the errors is correctly specified.\n",
              "\"\"\""
            ]
          },
          "execution_count": 44,
          "metadata": {},
          "output_type": "execute_result"
        }
      ],
      "source": [
        "import statsmodels.api as sm\n",
        "X_OLS = sm.add_constant(X)\n",
        "\n",
        "model = sm.OLS(endog=Y, exog=X_OLS)\n",
        "model_fit = model.fit()\n",
        "model_fit.summary()\n"
      ]
    },
    {
      "cell_type": "markdown",
      "metadata": {
        "id": "4mti4aEXkdX3"
      },
      "source": [
        "# Régression polynomiale\n",
        "La régression linéaire univariée (une variable dépendante) et multivariée (plus d'une variable dépendante) dont nous avons parlé jusqu'à présent suppose toujours une relation linéaire entre les variables indépendantes et dépendantes. Dans le monde réel, il est très fréquent de disposer de données pour lesquelles il existe une relation non linéaire entre les variables indépendantes et dépendantes. Dans ce cas, nous pouvons utiliser la régression polynomiale en supposant que la relation entre la variable indépendante x et la (les) variable(s) dépendante(s) y est modélisée par un polynôme de nième degré en x."
      ]
    },
    {
      "cell_type": "code",
      "execution_count": 40,
      "metadata": {
        "id": "C87PSMTGkdX3",
        "outputId": "6df8b864-eead-4b11-cb78-41d0019f1642",
        "scrolled": true
      },
      "outputs": [
        {
          "data": {
            "image/png": "[encoded data removed]",
            "text/plain": [
              "<Figure size 700x500 with 1 Axes>"
            ]
          },
          "metadata": {},
          "output_type": "display_data"
        },
        {
          "name": "stdout",
          "output_type": "stream",
          "text": [
            "[[ 0.         -0.21464768  0.01531708]]\n",
            "[45.31775504]\n"
          ]
        }
      ],
      "source": [
        "from sklearn.preprocessing import PolynomialFeatures\n",
        "pr = PolynomialFeatures(degree = 2)\n",
        "X_poly = pr.fit_transform(X)\n",
        "pr.fit(X_poly, Y)\n",
        "lin_reg = LinearRegression()\n",
        "lin_reg.fit(X_poly, Y)\n",
        "plt.scatter(X, Y)\n",
        "plt.scatter(X, lin_reg.predict(pr.fit_transform(X)))\n",
        "plt.show()\n",
        "\n",
        "print(lin_reg.coef_)\n",
        "print(lin_reg.intercept_)\n"
      ]
    },
    {
      "cell_type": "markdown",
      "metadata": {
        "id": "FMG1pQ8sbH8j"
      },
      "source": [
        "Donner l'équation du modèle"
      ]
    },
    {
      "cell_type": "markdown",
      "metadata": {},
      "source": [
        "L'équation du modèle est y = -0.2146 *x + 0.0153* x**2 + 45.3178"
      ]
    },
    {
      "cell_type": "markdown",
      "metadata": {
        "id": "4fR796PCkdX3"
      },
      "source": [
        "# Données d'entraînement (train) et de test"
      ]
    },
    {
      "cell_type": "markdown",
      "metadata": {
        "id": "S4yaFMd7kdX3"
      },
      "source": [
        "Pour construire un bon modèle, nous devons d'abord diviser notre ensemble\n",
        "de données en un ensemble d'entraînement (ou données d'apprentissage) et un ensemble de test. Nous\n",
        "utiliserons notre ensemble d'entraînement pour former notre modèle,\n",
        "et nous utiliserons notre ensemble de test pour la validation du modèle.\n",
        "Pour ce faire, nous allons utiliser la fonction train_test_split de\n",
        "sklearn, et définir le paramètre d'entrée test_size à .2 afin que 20\\%\n",
        "des données soient assignées à l'ensemble de test et 80\\% des données\n",
        "soient assignées à l'ensemble d'entraînement.\n",
        "\n",
        "**Nous mettons de côté l'ensemble de test et ne le regardons qu'à la fin\n",
        "pour évaluer les performances du modèle sur des données non vues.\n",
        "\n",
        "Nous faisons cela afin de nous assurer que nous ne testons pas ce que le\n",
        "modèle a déjà appris. De cette façon, nous ne nous contentons pas de\n",
        "résoudre les données que nous connaissons et nous pouvons vérifier si notre\n",
        "modèle est applicable lorsque nous ne connaissons pas les valeurs de\n",
        "sortie. Par conséquent, nous pouvons également vérifier si le modèle n'est pas en overfitting.\n",
        "\n",
        "Nous fixons l'initialisation aléatoire de sorte que chaque fois que nous exécutons\n",
        "le code train_test_split, nous obtenons la même distribution de\n",
        "données. Ceci est important car le fait de garder la répartition des\n",
        "données constante nous permet de comparer les résultats de différentes\n",
        "sessions."
      ]
    },
    {
      "cell_type": "code",
      "execution_count": 68,
      "metadata": {
        "id": "oy0x1tUZkdX4",
        "outputId": "7ad8c6e5-e229-4cd3-8d27-ce621c54c93f"
      },
      "outputs": [
        {
          "data": {
            "text/plain": [
              "69"
            ]
          },
          "execution_count": 68,
          "metadata": {},
          "output_type": "execute_result"
        }
      ],
      "source": [
        "from sklearn.model_selection import train_test_split\n",
        "\n",
        "X_train, X_test, Y_train, Y_test = train_test_split(X, Y,test_size=0.3,random_state=42)\n",
        "\n",
        "X_train.size"
      ]
    },
    {
      "cell_type": "markdown",
      "metadata": {
        "id": "aEr2JbSQkdX4"
      },
      "source": [
        "À vous\n",
        "\n",
        "Appliquer linear_regressor.fit() et LinearRegression() en polynomiale à votre trainset. Afficher la MSE, le R2 et la RMSE pour les données de test pour chaque modèle."
      ]
    },
    {
      "cell_type": "code",
      "execution_count": 73,
      "metadata": {
        "id": "qFt3pO_FQbY-"
      },
      "outputs": [
        {
          "name": "stdout",
          "output_type": "stream",
          "text": [
            "Régression Linéaire- MSE: 98.4612, RMSE: 9.9228, R²: 0.5277\n",
            "Régression OLS- MSE: 98.4612, RMSE: 9.9228, R²: 0.5277\n",
            "Régression Polynomiale- MSE: 94.0764, RMSE: 9.6993, R²: 0.5487\n"
          ]
        },
        {
          "data": {
            "text/plain": [
              "<function matplotlib.pyplot.show(close=None, block=None)>"
            ]
          },
          "execution_count": 73,
          "metadata": {},
          "output_type": "execute_result"
        },
        {
          "data": {
            "image/png": "[encoded data removed]",
            "text/plain": [
              "<Figure size 700x500 with 1 Axes>"
            ]
          },
          "metadata": {},
          "output_type": "display_data"
        }
      ],
      "source": [
        "linear_regressor = LinearRegression()\n",
        "linear_regressor.fit(X_train, Y_train)\n",
        "Y_pred_linear = linear_regressor.predict(X_test)\n",
        "\n",
        "poly_features = PolynomialFeatures(degree=2)\n",
        "X_train_poly = poly_features.fit_transform(X_train)\n",
        "X_test_poly = poly_features.transform(X_test)\n",
        "\n",
        "poly_regressor = LinearRegression()\n",
        "poly_regressor.fit(X_train_poly, Y_train)\n",
        "Y_pred_poly = poly_regressor.predict(X_test_poly)\n",
        "\n",
        "model = sm.OLS(endog=Y_train, exog=sm.add_constant(X_train))\n",
        "model_fit = model.fit()\n",
        "Y_pred_ols = model_fit.predict(sm.add_constant(X_test))\n",
        "\n",
        "mseL = mean_squared_error(Y_test, Y_pred_linear)\n",
        "rmseL = np.sqrt(mseL)\n",
        "r2L = r2_score(Y_test, Y_pred_linear)\n",
        "\n",
        "mseP = mean_squared_error(Y_test, Y_pred_poly)\n",
        "rmseP = np.sqrt(mseP)\n",
        "r2P = r2_score(Y_test, Y_pred_poly)\n",
        "\n",
        "mseO = mean_squared_error(Y_test, Y_pred_ols)\n",
        "rmseO = np.sqrt(mseO)\n",
        "r2O = r2_score(Y_test, Y_pred_ols)\n",
        "\n",
        "print(f\"Régression Linéaire- MSE: {mseL:.4f}, RMSE: {rmseL:.4f}, R²: {r2L:.4f}\")\n",
        "print(f\"Régression OLS- MSE: {mseO:.4f}, RMSE: {rmseO:.4f}, R²: {r2O:.4f}\")\n",
        "print(f\"Régression Polynomiale- MSE: {mseP:.4f}, RMSE: {rmseP:.4f}, R²: {r2P:.4f}\")\n",
        "\n",
        "\n",
        "plt.scatter(X_test,Y_test)\n",
        "plt.scatter(X_test,Y_pred_poly)\n",
        "plt.scatter(X_test,Y_pred_linear)\n",
        "plt.scatter(X_test,Y_pred_ols)\n",
        "plt.show\n"
      ]
    },
    {
      "cell_type": "markdown",
      "metadata": {
        "id": "6VPyUb3OQtWi"
      },
      "source": [
        "Comparer les deux modèles"
      ]
    },
    {
      "cell_type": "markdown",
      "metadata": {},
      "source": [
        "Au centre du modèle les predictions sont plus \n",
        "Les prédictions du modèle Polynomial sont plus précises avec un r2 plus grand avec donc moins de dispertion et un RMSE plus faible signifiant un bon ajustement"
      ]
    }
  ],
  "metadata": {
    "colab": {
      "provenance": []
    },
    "kernelspec": {
      "display_name": "Python 3",
      "language": "python",
      "name": "python3"
    },
    "language_info": {
      "codemirror_mode": {
        "name": "ipython",
        "version": 3
      },
      "file_extension": ".py",
      "mimetype": "text/x-python",
      "name": "python",
      "nbconvert_exporter": "python",
      "pygments_lexer": "ipython3",
      "version": "3.11.9"
    }
  },
  "nbformat": 4,
  "nbformat_minor": 0
}
